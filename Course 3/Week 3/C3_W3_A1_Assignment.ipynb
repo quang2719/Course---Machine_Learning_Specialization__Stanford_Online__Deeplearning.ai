{
 "cells": [
  {
   "cell_type": "markdown",
   "metadata": {},
   "source": [
    "# Deep Q-Learning - Lunar Lander\n",
    "\n",
    "In this assignment, you will train an agent to land a lunar lander safely on a landing pad on the surface of the moon.\n",
    "\n",
    "\n",
    "# Outline\n",
    "- [ 1 - Import Packages <img align=\"Right\" src=\"./images/lunar_lander.gif\" width = 60% >](#1)\n",
    "- [ 2 - Hyperparameters](#2)\n",
    "- [ 3 - The Lunar Lander Environment](#3)\n",
    "  - [ 3.1 Action Space](#3.1)\n",
    "  - [ 3.2 Observation Space](#3.2)\n",
    "  - [ 3.3 Rewards](#3.3)\n",
    "  - [ 3.4 Episode Termination](#3.4)\n",
    "- [ 4 - Load the Environment](#4)\n",
    "- [ 5 - Interacting with the Gym Environment](#5)\n",
    "    - [ 5.1 Exploring the Environment's Dynamics](#5.1)\n",
    "- [ 6 - Deep Q-Learning](#6)\n",
    "  - [ 6.1 Target Network](#6.1)\n",
    "    - [ Exercise 1](#ex01)\n",
    "  - [ 6.2 Experience Replay](#6.2)\n",
    "- [ 7 - Deep Q-Learning Algorithm with Experience Replay](#7)\n",
    "  - [ Exercise 2](#ex02)\n",
    "- [ 8 - Update the Network Weights](#8)\n",
    "- [ 9 - Train the Agent](#9)\n",
    "- [ 10 - See the Trained Agent In Action](#10)\n",
    "- [ 11 - Congratulations!](#11)\n",
    "- [ 12 - References](#12)\n"
   ]
  },
  {
   "cell_type": "markdown",
   "metadata": {},
   "source": [
    "_**NOTE:** To prevent errors from the autograder, you are not allowed to edit or delete non-graded cells in this lab. Please also refrain from adding any new cells. \n",
    "**Once you have passed this assignment** and want to experiment with any of the non-graded code, you may follow the instructions at the bottom of this notebook._"
   ]
  },
  {
   "cell_type": "markdown",
   "metadata": {},
   "source": [
    "<a name=\"1\"></a>\n",
    "## 1 - Import Packages\n",
    "\n",
    "We'll make use of the following packages:\n",
    "- `numpy` is a package for scientific computing in python.\n",
    "- `deque` will be our data structure for our memory buffer.\n",
    "- `namedtuple` will be used to store the experience tuples.\n",
    "- The `gym` toolkit is a collection of environments that can be used to test reinforcement learning algorithms. We should note that in this notebook we are using `gym` version `0.24.0`.\n",
    "- `PIL.Image` and `pyvirtualdisplay` are needed to render the Lunar Lander environment.\n",
    "- We will use several modules from the `tensorflow.keras` framework for building deep learning models.\n",
    "- `utils` is a module that contains helper functions for this assignment. You do not need to modify the code in this file.\n",
    "\n",
    "Run the cell below to import all the necessary packages."
   ]
  },
  {
   "cell_type": "code",
   "execution_count": 1,
   "metadata": {
    "deletable": false,
    "editable": false,
    "id": "KYbOPKRtfQOr"
   },
   "outputs": [],
   "source": [
    "import time\n",
    "from collections import deque, namedtuple\n",
    "\n",
    "import gym\n",
    "import numpy as np\n",
    "import PIL.Image\n",
    "import tensorflow as tf\n",
    "import utils\n",
    "\n",
    "from pyvirtualdisplay import Display\n",
    "from tensorflow.keras import Sequential\n",
    "from tensorflow.keras.layers import Dense, Input\n",
    "from tensorflow.keras.losses import MSE\n",
    "from tensorflow.keras.optimizers import Adam"
   ]
  },
  {
   "cell_type": "code",
   "execution_count": 2,
   "metadata": {
    "deletable": false,
    "editable": false
   },
   "outputs": [],
   "source": [
    "# Set up a virtual display to render the Lunar Lander environment.\n",
    "Display(visible=0, size=(840, 480)).start();\n",
    "\n",
    "# Set the random seed for TensorFlow\n",
    "tf.random.set_seed(utils.SEED)"
   ]
  },
  {
   "cell_type": "markdown",
   "metadata": {},
   "source": [
    "<a name=\"2\"></a>\n",
    "## 2 - Hyperparameters\n",
    "\n",
    "Run the cell below to set the hyperparameters."
   ]
  },
  {
   "cell_type": "code",
   "execution_count": 3,
   "metadata": {
    "deletable": false,
    "editable": false
   },
   "outputs": [],
   "source": [
    "MEMORY_SIZE = 100_000     # size of memory buffer\n",
    "GAMMA = 0.995             # discount factor\n",
    "ALPHA = 1e-3              # learning rate  \n",
    "NUM_STEPS_FOR_UPDATE = 4  # perform a learning update every C time steps"
   ]
  },
  {
   "cell_type": "markdown",
   "metadata": {},
   "source": [
    "<a name=\"3\"></a>\n",
    "## 3 - The Lunar Lander Environment\n",
    "\n",
    "In this notebook we will be using [OpenAI's Gym Library](https://www.gymlibrary.dev/). The Gym library provides a wide variety of environments for reinforcement learning. To put it simply, an environment represents a problem or task to be solved. In this notebook, we will try to solve the Lunar Lander environment using reinforcement learning.\n",
    "\n",
    "The goal of the Lunar Lander environment is to land the lunar lander safely on the landing pad on the surface of the moon. The landing pad is designated by two flag poles and its center is at coordinates `(0,0)` but the lander is also allowed to land outside of the landing pad. The lander starts at the top center of the environment with a random initial force applied to its center of mass and has infinite fuel. The environment is considered solved if you get `200` points. \n",
    "\n",
    "<br>\n",
    "<br>\n",
    "<figure>\n",
    "  <img src = \"images/lunar_lander.gif\" width = 40%>\n",
    "      <figcaption style = \"text-align: center; font-style: italic\">Fig 1. Lunar Lander Environment.</figcaption>\n",
    "</figure>\n",
    "\n",
    "\n",
    "\n",
    "<a name=\"3.1\"></a>\n",
    "### 3.1 Action Space\n",
    "\n",
    "The agent has four discrete actions available:\n",
    "\n",
    "* Do nothing.\n",
    "* Fire right engine.\n",
    "* Fire main engine.\n",
    "* Fire left engine.\n",
    "\n",
    "Each action has a corresponding numerical value:\n",
    "\n",
    "```python\n",
    "Do nothing = 0\n",
    "Fire right engine = 1\n",
    "Fire main engine = 2\n",
    "Fire left engine = 3\n",
    "```\n",
    "\n",
    "<a name=\"3.2\"></a>\n",
    "### 3.2 Observation Space\n",
    "\n",
    "The agent's observation space consists of a state vector with 8 variables:\n",
    "\n",
    "* Its $(x,y)$ coordinates. The landing pad is always at coordinates $(0,0)$.\n",
    "* Its linear velocities $(\\dot x,\\dot y)$.\n",
    "* Its angle $\\theta$.\n",
    "* Its angular velocity $\\dot \\theta$.\n",
    "* Two booleans, $l$ and $r$, that represent whether each leg is in contact with the ground or not.\n",
    "\n",
    "<a name=\"3.3\"></a>\n",
    "### 3.3 Rewards\n",
    "\n",
    "After every step, a reward is granted. The total reward of an episode is the sum of the rewards for all the steps within that episode.\n",
    "\n",
    "For each step, the reward:\n",
    "- is increased/decreased the closer/further the lander is to the landing pad.\n",
    "- is increased/decreased the slower/faster the lander is moving.\n",
    "- is decreased the more the lander is tilted (angle not horizontal).\n",
    "- is increased by 10 points for each leg that is in contact with the ground.\n",
    "- is decreased by 0.03 points each frame a side engine is firing.\n",
    "- is decreased by 0.3 points each frame the main engine is firing.\n",
    "\n",
    "The episode receives an additional reward of -100 or +100 points for crashing or landing safely respectively.\n",
    "\n",
    "<a name=\"3.4\"></a>\n",
    "### 3.4 Episode Termination\n",
    "\n",
    "An episode ends (i.e the environment enters a terminal state) if:\n",
    "\n",
    "* The lunar lander crashes (i.e if the body of the lunar lander comes in contact with the surface of the moon).\n",
    "\n",
    "* The absolute value of the lander's $x$-coordinate is greater than 1 (i.e. it goes beyond the left or right border)\n",
    "\n",
    "You can check out the [Open AI Gym documentation](https://www.gymlibrary.dev/environments/box2d/lunar_lander/) for a full description of the environment. "
   ]
  },
  {
   "cell_type": "markdown",
   "metadata": {},
   "source": [
    "<a name=\"4\"></a>\n",
    "## 4 - Load the Environment\n",
    "\n",
    "We start by loading the `LunarLander-v2` environment from the `gym` library by using the `.make()` method. `LunarLander-v2` is the latest version of the Lunar Lander environment and you can read about its version history in the [Open AI Gym documentation](https://www.gymlibrary.dev/environments/box2d/lunar_lander/#version-history)."
   ]
  },
  {
   "cell_type": "code",
   "execution_count": 4,
   "metadata": {
    "deletable": false,
    "editable": false,
    "id": "ILVMYKewfR0n"
   },
   "outputs": [],
   "source": [
    "env = gym.make('LunarLander-v2')"
   ]
  },
  {
   "cell_type": "markdown",
   "metadata": {},
   "source": [
    "Once we load the environment we use the `.reset()` method to reset the environment to the initial state. The lander starts at the top center of the environment and we can render the first frame of the environment by using the `.render()` method."
   ]
  },
  {
   "cell_type": "code",
   "execution_count": 5,
   "metadata": {
    "deletable": false,
    "editable": false
   },
   "outputs": [
    {
     "data": {
      "image/png": "[encoded data removed]",
      "text/plain": [
       "<PIL.Image.Image image mode=RGB size=600x400 at 0x75E1C624DCD0>"
      ]
     },
     "execution_count": 5,
     "metadata": {},
     "output_type": "execute_result"
    }
   ],
   "source": [
    "env.reset()\n",
    "PIL.Image.fromarray(env.render(mode='rgb_array'))"
   ]
  },
  {
   "cell_type": "markdown",
   "metadata": {},
   "source": [
    "In order to build our neural network later on we need to know the size of the state vector and the number of valid actions. We can get this information from our environment by using the `.observation_space.shape` and `action_space.n` methods, respectively."
   ]
  },
  {
   "cell_type": "code",
   "execution_count": 6,
   "metadata": {
    "deletable": false,
    "editable": false,
    "id": "x3fdqdG4CUu2"
   },
   "outputs": [
    {
     "name": "stdout",
     "output_type": "stream",
     "text": [
      "State Shape: (8,)\n",
      "Number of actions: 4\n"
     ]
    }
   ],
   "source": [
    "state_size = env.observation_space.shape\n",
    "num_actions = env.action_space.n\n",
    "\n",
    "print('State Shape:', state_size)\n",
    "print('Number of actions:', num_actions)"
   ]
  },
  {
   "cell_type": "markdown",
   "metadata": {},
   "source": [
    "<a name=\"5\"></a>\n",
    "## 5 - Interacting with the Gym Environment\n",
    "\n",
    "The Gym library implements the standard “agent-environment loop” formalism:\n",
    "\n",
    "<br>\n",
    "<center>\n",
    "<video src = \"./videos/rl_formalism.m4v\" width=\"840\" height=\"480\" controls autoplay loop poster=\"./images/rl_formalism.png\"> </video>\n",
    "<figcaption style = \"text-align:center; font-style:italic\">Fig 2. Agent-environment Loop Formalism.</figcaption>\n",
    "</center>\n",
    "<br>\n",
    "\n",
    "In the standard “agent-environment loop” formalism, an agent interacts with the environment in discrete time steps $t=0,1,2,...$. At each time step $t$, the agent uses a policy $\\pi$ to select an action $A_t$ based on its observation of the environment's state $S_t$. The agent receives a numerical reward $R_t$ and on the next time step, moves to a new state $S_{t+1}$.\n",
    "\n",
    "<a name=\"5.1\"></a>\n",
    "### 5.1 Exploring the Environment's Dynamics\n",
    "\n",
    "In Open AI's Gym environments, we use the `.step()` method to run a single time step of the environment's dynamics. In the version of `gym` that we are using the `.step()` method accepts an action and returns four values:\n",
    "\n",
    "* `observation` (**object**): an environment-specific object representing your observation of the environment. In the Lunar Lander environment this corresponds to a numpy array containing the positions and velocities of the lander as described in section [3.2 Observation Space](#3.2).\n",
    "\n",
    "\n",
    "* `reward` (**float**): amount of reward returned as a result of taking the given action. In the Lunar Lander environment this corresponds to a float of type `numpy.float64` as described in section [3.3 Rewards](#3.3).\n",
    "\n",
    "\n",
    "* `done` (**boolean**): When done is `True`, it indicates the episode has terminated and it’s time to reset the environment. \n",
    "\n",
    "\n",
    "* `info` (**dictionary**): diagnostic information useful for debugging. We won't be using this variable in this notebook but it is shown here for completeness.\n",
    "\n",
    "To begin an episode, we need to reset the environment to an initial state. We do this by using the `.reset()` method. "
   ]
  },
  {
   "cell_type": "code",
   "execution_count": 7,
   "metadata": {
    "deletable": false,
    "editable": false
   },
   "outputs": [],
   "source": [
    "# Reset the environment and get the initial state.\n",
    "current_state = env.reset()"
   ]
  },
  {
   "cell_type": "markdown",
   "metadata": {},
   "source": [
    "Once the environment is reset, the agent can start taking actions in the environment by using the `.step()` method. Note that the agent can only take one action per time step. \n",
    "\n",
    "In the cell below you can select different actions and see how the returned values change depending on the action taken. Remember that in this environment the agent has four discrete actions available and we specify them in code by using their corresponding numerical value:\n",
    "\n",
    "```python\n",
    "Do nothing = 0\n",
    "Fire right engine = 1\n",
    "Fire main engine = 2\n",
    "Fire left engine = 3\n",
    "```"
   ]
  },
  {
   "cell_type": "code",
   "execution_count": 8,
   "metadata": {
    "deletable": false
   },
   "outputs": [
    {
     "data": {
      "text/html": [
       "<style  type=\"text/css\" >\n",
       "    #T_5e620b3e_57df_11ef_aaf6_0242ac120045 th {\n",
       "          border: 1px solid grey;\n",
       "          text-align: center;\n",
       "    }    #T_5e620b3e_57df_11ef_aaf6_0242ac120045 tbody td {\n",
       "          border: 1px solid grey;\n",
       "          text-align: center;\n",
       "    }    #T_5e620b3e_57df_11ef_aaf6_0242ac120045row0_col0 {\n",
       "            background-color :  grey;\n",
       "        }    #T_5e620b3e_57df_11ef_aaf6_0242ac120045row1_col1 {\n",
       "            background-color :  grey;\n",
       "        }    #T_5e620b3e_57df_11ef_aaf6_0242ac120045row1_col2 {\n",
       "            background-color :  grey;\n",
       "        }    #T_5e620b3e_57df_11ef_aaf6_0242ac120045row1_col3 {\n",
       "            background-color :  grey;\n",
       "        }    #T_5e620b3e_57df_11ef_aaf6_0242ac120045row1_col4 {\n",
       "            background-color :  grey;\n",
       "        }    #T_5e620b3e_57df_11ef_aaf6_0242ac120045row1_col5 {\n",
       "            background-color :  grey;\n",
       "        }    #T_5e620b3e_57df_11ef_aaf6_0242ac120045row1_col6 {\n",
       "            background-color :  grey;\n",
       "        }    #T_5e620b3e_57df_11ef_aaf6_0242ac120045row1_col7 {\n",
       "            background-color :  grey;\n",
       "        }    #T_5e620b3e_57df_11ef_aaf6_0242ac120045row1_col8 {\n",
       "            background-color :  grey;\n",
       "        }    #T_5e620b3e_57df_11ef_aaf6_0242ac120045row1_col9 {\n",
       "            background-color :  grey;\n",
       "        }    #T_5e620b3e_57df_11ef_aaf6_0242ac120045row1_col10 {\n",
       "            background-color :  grey;\n",
       "        }    #T_5e620b3e_57df_11ef_aaf6_0242ac120045row1_col11 {\n",
       "            background-color :  grey;\n",
       "        }    #T_5e620b3e_57df_11ef_aaf6_0242ac120045row2_col0 {\n",
       "            background-color :  grey;\n",
       "        }    #T_5e620b3e_57df_11ef_aaf6_0242ac120045row3_col1 {\n",
       "            background-color :  grey;\n",
       "        }    #T_5e620b3e_57df_11ef_aaf6_0242ac120045row3_col2 {\n",
       "            background-color :  grey;\n",
       "        }    #T_5e620b3e_57df_11ef_aaf6_0242ac120045row3_col3 {\n",
       "            background-color :  grey;\n",
       "        }    #T_5e620b3e_57df_11ef_aaf6_0242ac120045row3_col4 {\n",
       "            background-color :  grey;\n",
       "        }    #T_5e620b3e_57df_11ef_aaf6_0242ac120045row3_col5 {\n",
       "            background-color :  grey;\n",
       "        }    #T_5e620b3e_57df_11ef_aaf6_0242ac120045row3_col6 {\n",
       "            background-color :  grey;\n",
       "        }    #T_5e620b3e_57df_11ef_aaf6_0242ac120045row3_col7 {\n",
       "            background-color :  grey;\n",
       "        }    #T_5e620b3e_57df_11ef_aaf6_0242ac120045row3_col8 {\n",
       "            background-color :  grey;\n",
       "        }    #T_5e620b3e_57df_11ef_aaf6_0242ac120045row3_col9 {\n",
       "            background-color :  grey;\n",
       "        }    #T_5e620b3e_57df_11ef_aaf6_0242ac120045row3_col10 {\n",
       "            background-color :  grey;\n",
       "        }    #T_5e620b3e_57df_11ef_aaf6_0242ac120045row3_col11 {\n",
       "            background-color :  grey;\n",
       "        }    #T_5e620b3e_57df_11ef_aaf6_0242ac120045row4_col1 {\n",
       "            background-color :  grey;\n",
       "        }    #T_5e620b3e_57df_11ef_aaf6_0242ac120045row4_col2 {\n",
       "            background-color :  grey;\n",
       "        }    #T_5e620b3e_57df_11ef_aaf6_0242ac120045row4_col3 {\n",
       "            background-color :  grey;\n",
       "        }    #T_5e620b3e_57df_11ef_aaf6_0242ac120045row4_col4 {\n",
       "            background-color :  grey;\n",
       "        }    #T_5e620b3e_57df_11ef_aaf6_0242ac120045row4_col5 {\n",
       "            background-color :  grey;\n",
       "        }    #T_5e620b3e_57df_11ef_aaf6_0242ac120045row4_col6 {\n",
       "            background-color :  grey;\n",
       "        }    #T_5e620b3e_57df_11ef_aaf6_0242ac120045row4_col7 {\n",
       "            background-color :  grey;\n",
       "        }    #T_5e620b3e_57df_11ef_aaf6_0242ac120045row4_col8 {\n",
       "            background-color :  grey;\n",
       "        }    #T_5e620b3e_57df_11ef_aaf6_0242ac120045row4_col9 {\n",
       "            background-color :  grey;\n",
       "        }    #T_5e620b3e_57df_11ef_aaf6_0242ac120045row4_col10 {\n",
       "            background-color :  grey;\n",
       "        }    #T_5e620b3e_57df_11ef_aaf6_0242ac120045row4_col11 {\n",
       "            background-color :  grey;\n",
       "        }</style><table id=\"T_5e620b3e_57df_11ef_aaf6_0242ac120045\" ><thead>    <tr>        <th class=\"blank level0\" ></th>        <th class=\"col_heading level0 col0\" ></th>        <th class=\"col_heading level0 col1\" colspan=8>State Vector</th>        <th class=\"col_heading level0 col9\" colspan=3>Derived from the State Vector (the closer to zero, the better)</th>    </tr>    <tr>        <th class=\"blank level1\" ></th>        <th class=\"col_heading level1 col0\" ></th>        <th class=\"col_heading level1 col1\" colspan=2>Coordinate</th>        <th class=\"col_heading level1 col3\" colspan=2>Velocity</th>        <th class=\"col_heading level1 col5\" colspan=2>Tilting</th>        <th class=\"col_heading level1 col7\" colspan=2>Ground contact</th>        <th class=\"col_heading level1 col9\" >Distance from landing pad</th>        <th class=\"col_heading level1 col10\" >Velocity</th>        <th class=\"col_heading level1 col11\" >Tilting Angle (absolute value)</th>    </tr>    <tr>        <th class=\"blank level2\" ></th>        <th class=\"col_heading level2 col0\" ></th>        <th class=\"col_heading level2 col1\" >X (Horizontal)</th>        <th class=\"col_heading level2 col2\" >Y (Vertical)</th>        <th class=\"col_heading level2 col3\" >X (Horizontal)</th>        <th class=\"col_heading level2 col4\" >Y (Vertical)</th>        <th class=\"col_heading level2 col5\" >Angle</th>        <th class=\"col_heading level2 col6\" >Angular Velocity</th>        <th class=\"col_heading level2 col7\" >Left Leg?</th>        <th class=\"col_heading level2 col8\" >Right Leg?</th>        <th class=\"col_heading level2 col9\" ></th>        <th class=\"col_heading level2 col10\" ></th>        <th class=\"col_heading level2 col11\" ></th>    </tr></thead><tbody>\n",
       "                <tr>\n",
       "                        <th id=\"T_5e620b3e_57df_11ef_aaf6_0242ac120045level0_row0\" class=\"row_heading level0 row0\" >Current State</th>\n",
       "                        <td id=\"T_5e620b3e_57df_11ef_aaf6_0242ac120045row0_col0\" class=\"data row0 col0\" ></td>\n",
       "                        <td id=\"T_5e620b3e_57df_11ef_aaf6_0242ac120045row0_col1\" class=\"data row0 col1\" >0.001919</td>\n",
       "                        <td id=\"T_5e620b3e_57df_11ef_aaf6_0242ac120045row0_col2\" class=\"data row0 col2\" >1.422301</td>\n",
       "                        <td id=\"T_5e620b3e_57df_11ef_aaf6_0242ac120045row0_col3\" class=\"data row0 col3\" >0.194400</td>\n",
       "                        <td id=\"T_5e620b3e_57df_11ef_aaf6_0242ac120045row0_col4\" class=\"data row0 col4\" >0.505814</td>\n",
       "                        <td id=\"T_5e620b3e_57df_11ef_aaf6_0242ac120045row0_col5\" class=\"data row0 col5\" >-0.002217</td>\n",
       "                        <td id=\"T_5e620b3e_57df_11ef_aaf6_0242ac120045row0_col6\" class=\"data row0 col6\" >-0.044034</td>\n",
       "                        <td id=\"T_5e620b3e_57df_11ef_aaf6_0242ac120045row0_col7\" class=\"data row0 col7\" >False</td>\n",
       "                        <td id=\"T_5e620b3e_57df_11ef_aaf6_0242ac120045row0_col8\" class=\"data row0 col8\" >False</td>\n",
       "                        <td id=\"T_5e620b3e_57df_11ef_aaf6_0242ac120045row0_col9\" class=\"data row0 col9\" >1.422302</td>\n",
       "                        <td id=\"T_5e620b3e_57df_11ef_aaf6_0242ac120045row0_col10\" class=\"data row0 col10\" >0.541885</td>\n",
       "                        <td id=\"T_5e620b3e_57df_11ef_aaf6_0242ac120045row0_col11\" class=\"data row0 col11\" >0.002217</td>\n",
       "            </tr>\n",
       "            <tr>\n",
       "                        <th id=\"T_5e620b3e_57df_11ef_aaf6_0242ac120045level0_row1\" class=\"row_heading level0 row1\" >Action</th>\n",
       "                        <td id=\"T_5e620b3e_57df_11ef_aaf6_0242ac120045row1_col0\" class=\"data row1 col0\" >Do nothing</td>\n",
       "                        <td id=\"T_5e620b3e_57df_11ef_aaf6_0242ac120045row1_col1\" class=\"data row1 col1\" ></td>\n",
       "                        <td id=\"T_5e620b3e_57df_11ef_aaf6_0242ac120045row1_col2\" class=\"data row1 col2\" ></td>\n",
       "                        <td id=\"T_5e620b3e_57df_11ef_aaf6_0242ac120045row1_col3\" class=\"data row1 col3\" ></td>\n",
       "                        <td id=\"T_5e620b3e_57df_11ef_aaf6_0242ac120045row1_col4\" class=\"data row1 col4\" ></td>\n",
       "                        <td id=\"T_5e620b3e_57df_11ef_aaf6_0242ac120045row1_col5\" class=\"data row1 col5\" ></td>\n",
       "                        <td id=\"T_5e620b3e_57df_11ef_aaf6_0242ac120045row1_col6\" class=\"data row1 col6\" ></td>\n",
       "                        <td id=\"T_5e620b3e_57df_11ef_aaf6_0242ac120045row1_col7\" class=\"data row1 col7\" ></td>\n",
       "                        <td id=\"T_5e620b3e_57df_11ef_aaf6_0242ac120045row1_col8\" class=\"data row1 col8\" ></td>\n",
       "                        <td id=\"T_5e620b3e_57df_11ef_aaf6_0242ac120045row1_col9\" class=\"data row1 col9\" ></td>\n",
       "                        <td id=\"T_5e620b3e_57df_11ef_aaf6_0242ac120045row1_col10\" class=\"data row1 col10\" ></td>\n",
       "                        <td id=\"T_5e620b3e_57df_11ef_aaf6_0242ac120045row1_col11\" class=\"data row1 col11\" ></td>\n",
       "            </tr>\n",
       "            <tr>\n",
       "                        <th id=\"T_5e620b3e_57df_11ef_aaf6_0242ac120045level0_row2\" class=\"row_heading level0 row2\" >Next State</th>\n",
       "                        <td id=\"T_5e620b3e_57df_11ef_aaf6_0242ac120045row2_col0\" class=\"data row2 col0\" ></td>\n",
       "                        <td id=\"T_5e620b3e_57df_11ef_aaf6_0242ac120045row2_col1\" class=\"data row2 col1\" >0.003839</td>\n",
       "                        <td id=\"T_5e620b3e_57df_11ef_aaf6_0242ac120045row2_col2\" class=\"data row2 col2\" >1.433103</td>\n",
       "                        <td id=\"T_5e620b3e_57df_11ef_aaf6_0242ac120045row2_col3\" class=\"data row2 col3\" >0.194137</td>\n",
       "                        <td id=\"T_5e620b3e_57df_11ef_aaf6_0242ac120045row2_col4\" class=\"data row2 col4\" >0.480094</td>\n",
       "                        <td id=\"T_5e620b3e_57df_11ef_aaf6_0242ac120045row2_col5\" class=\"data row2 col5\" >-0.004393</td>\n",
       "                        <td id=\"T_5e620b3e_57df_11ef_aaf6_0242ac120045row2_col6\" class=\"data row2 col6\" >-0.043519</td>\n",
       "                        <td id=\"T_5e620b3e_57df_11ef_aaf6_0242ac120045row2_col7\" class=\"data row2 col7\" >False</td>\n",
       "                        <td id=\"T_5e620b3e_57df_11ef_aaf6_0242ac120045row2_col8\" class=\"data row2 col8\" >False</td>\n",
       "                        <td id=\"T_5e620b3e_57df_11ef_aaf6_0242ac120045row2_col9\" class=\"data row2 col9\" >1.433108</td>\n",
       "                        <td id=\"T_5e620b3e_57df_11ef_aaf6_0242ac120045row2_col10\" class=\"data row2 col10\" >0.517860</td>\n",
       "                        <td id=\"T_5e620b3e_57df_11ef_aaf6_0242ac120045row2_col11\" class=\"data row2 col11\" >0.004393</td>\n",
       "            </tr>\n",
       "            <tr>\n",
       "                        <th id=\"T_5e620b3e_57df_11ef_aaf6_0242ac120045level0_row3\" class=\"row_heading level0 row3\" >Reward</th>\n",
       "                        <td id=\"T_5e620b3e_57df_11ef_aaf6_0242ac120045row3_col0\" class=\"data row3 col0\" >1.104326</td>\n",
       "                        <td id=\"T_5e620b3e_57df_11ef_aaf6_0242ac120045row3_col1\" class=\"data row3 col1\" ></td>\n",
       "                        <td id=\"T_5e620b3e_57df_11ef_aaf6_0242ac120045row3_col2\" class=\"data row3 col2\" ></td>\n",
       "                        <td id=\"T_5e620b3e_57df_11ef_aaf6_0242ac120045row3_col3\" class=\"data row3 col3\" ></td>\n",
       "                        <td id=\"T_5e620b3e_57df_11ef_aaf6_0242ac120045row3_col4\" class=\"data row3 col4\" ></td>\n",
       "                        <td id=\"T_5e620b3e_57df_11ef_aaf6_0242ac120045row3_col5\" class=\"data row3 col5\" ></td>\n",
       "                        <td id=\"T_5e620b3e_57df_11ef_aaf6_0242ac120045row3_col6\" class=\"data row3 col6\" ></td>\n",
       "                        <td id=\"T_5e620b3e_57df_11ef_aaf6_0242ac120045row3_col7\" class=\"data row3 col7\" ></td>\n",
       "                        <td id=\"T_5e620b3e_57df_11ef_aaf6_0242ac120045row3_col8\" class=\"data row3 col8\" ></td>\n",
       "                        <td id=\"T_5e620b3e_57df_11ef_aaf6_0242ac120045row3_col9\" class=\"data row3 col9\" ></td>\n",
       "                        <td id=\"T_5e620b3e_57df_11ef_aaf6_0242ac120045row3_col10\" class=\"data row3 col10\" ></td>\n",
       "                        <td id=\"T_5e620b3e_57df_11ef_aaf6_0242ac120045row3_col11\" class=\"data row3 col11\" ></td>\n",
       "            </tr>\n",
       "            <tr>\n",
       "                        <th id=\"T_5e620b3e_57df_11ef_aaf6_0242ac120045level0_row4\" class=\"row_heading level0 row4\" >Episode Terminated</th>\n",
       "                        <td id=\"T_5e620b3e_57df_11ef_aaf6_0242ac120045row4_col0\" class=\"data row4 col0\" >False</td>\n",
       "                        <td id=\"T_5e620b3e_57df_11ef_aaf6_0242ac120045row4_col1\" class=\"data row4 col1\" ></td>\n",
       "                        <td id=\"T_5e620b3e_57df_11ef_aaf6_0242ac120045row4_col2\" class=\"data row4 col2\" ></td>\n",
       "                        <td id=\"T_5e620b3e_57df_11ef_aaf6_0242ac120045row4_col3\" class=\"data row4 col3\" ></td>\n",
       "                        <td id=\"T_5e620b3e_57df_11ef_aaf6_0242ac120045row4_col4\" class=\"data row4 col4\" ></td>\n",
       "                        <td id=\"T_5e620b3e_57df_11ef_aaf6_0242ac120045row4_col5\" class=\"data row4 col5\" ></td>\n",
       "                        <td id=\"T_5e620b3e_57df_11ef_aaf6_0242ac120045row4_col6\" class=\"data row4 col6\" ></td>\n",
       "                        <td id=\"T_5e620b3e_57df_11ef_aaf6_0242ac120045row4_col7\" class=\"data row4 col7\" ></td>\n",
       "                        <td id=\"T_5e620b3e_57df_11ef_aaf6_0242ac120045row4_col8\" class=\"data row4 col8\" ></td>\n",
       "                        <td id=\"T_5e620b3e_57df_11ef_aaf6_0242ac120045row4_col9\" class=\"data row4 col9\" ></td>\n",
       "                        <td id=\"T_5e620b3e_57df_11ef_aaf6_0242ac120045row4_col10\" class=\"data row4 col10\" ></td>\n",
       "                        <td id=\"T_5e620b3e_57df_11ef_aaf6_0242ac120045row4_col11\" class=\"data row4 col11\" ></td>\n",
       "            </tr>\n",
       "    </tbody></table>"
      ],
      "text/plain": [
       "<pandas.io.formats.style.Styler at 0x75e1bbd6c4d0>"
      ]
     },
     "metadata": {},
     "output_type": "display_data"
    }
   ],
   "source": [
    "# Select an action\n",
    "action = 0\n",
    "\n",
    "# Run a single time step of the environment's dynamics with the given action.\n",
    "next_state, reward, done, _ = env.step(action)\n",
    "\n",
    "# Display table with values.\n",
    "utils.display_table(current_state, action, next_state, reward, done)\n",
    "\n",
    "# Replace the `current_state` with the state after the action is taken\n",
    "current_state = next_state"
   ]
  },
  {
   "cell_type": "markdown",
   "metadata": {},
   "source": [
    "In practice, when we train the agent we use a loop to allow the agent to take many consecutive actions during an episode."
   ]
  },
  {
   "cell_type": "markdown",
   "metadata": {},
   "source": [
    "<a name=\"6\"></a>\n",
    "## 6 - Deep Q-Learning\n",
    "\n",
    "In cases where both the state and action space are discrete we can estimate the action-value function iteratively by using the Bellman equation:\n",
    "\n",
    "$$\n",
    "Q_{i+1}(s,a) = R + \\gamma \\max_{a'}Q_i(s',a')\n",
    "$$\n",
    "\n",
    "This iterative method converges to the optimal action-value function $Q^*(s,a)$ as $i\\to\\infty$. This means that the agent just needs to gradually explore the state-action space and keep updating the estimate of $Q(s,a)$ until it converges to the optimal action-value function $Q^*(s,a)$. However, in cases where the state space is continuous it becomes practically impossible to explore the entire state-action space. Consequently, this also makes it practically impossible to gradually estimate $Q(s,a)$ until it converges to $Q^*(s,a)$.\n",
    "\n",
    "In the Deep $Q$-Learning, we solve this problem by using a neural network to estimate the action-value function $Q(s,a)\\approx Q^*(s,a)$. We call this neural network a $Q$-Network and it can be trained by adjusting its weights at each iteration to minimize the mean-squared error in the Bellman equation.\n",
    "\n",
    "Unfortunately, using neural networks in reinforcement learning to estimate action-value functions has proven to be highly unstable. Luckily, there's a couple of techniques that can be employed to avoid instabilities. These techniques consist of using a ***Target Network*** and ***Experience Replay***. We will explore these two techniques in the following sections."
   ]
  },
  {
   "cell_type": "markdown",
   "metadata": {},
   "source": [
    "<a name=\"6.1\"></a>\n",
    "### 6.1 Target Network\n",
    "\n",
    "We can train the $Q$-Network by adjusting it's weights at each iteration to minimize the mean-squared error in the Bellman equation, where the target values are given by:\n",
    "\n",
    "$$\n",
    "y = R + \\gamma \\max_{a'}Q(s',a';w)\n",
    "$$\n",
    "\n",
    "where $w$ are the weights of the $Q$-Network. This means that we are adjusting the weights $w$ at each iteration to minimize the following error:\n",
    "\n",
    "$$\n",
    "\\overbrace{\\underbrace{R + \\gamma \\max_{a'}Q(s',a'; w)}_{\\rm {y~target}} - Q(s,a;w)}^{\\rm {Error}}\n",
    "$$\n",
    "\n",
    "Notice that this forms a problem because the $y$ target is changing on every iteration. Having a constantly moving target can lead to oscillations and instabilities. To avoid this, we can create\n",
    "a separate neural network for generating the $y$ targets. We call this separate neural network the **target $\\hat Q$-Network** and it will have the same architecture as the original $Q$-Network. By using the target $\\hat Q$-Network, the above error becomes:\n",
    "\n",
    "$$\n",
    "\\overbrace{\\underbrace{R + \\gamma \\max_{a'}\\hat{Q}(s',a'; w^-)}_{\\rm {y~target}} - Q(s,a;w)}^{\\rm {Error}}\n",
    "$$\n",
    "\n",
    "where $w^-$ and $w$ are the weights of the target $\\hat Q$-Network and $Q$-Network, respectively.\n",
    "\n",
    "In practice, we will use the following algorithm: every $C$ time steps we will use the $\\hat Q$-Network to generate the $y$ targets and update the weights of the target $\\hat Q$-Network using the weights of the $Q$-Network. We will update the weights $w^-$ of the the target $\\hat Q$-Network using a **soft update**. This means that we will update the weights $w^-$ using the following rule:\n",
    " \n",
    "$$\n",
    "w^-\\leftarrow \\tau w + (1 - \\tau) w^-\n",
    "$$\n",
    "\n",
    "where $\\tau\\ll 1$. By using the soft update, we are ensuring that the target values, $y$, change slowly, which greatly improves the stability of our learning algorithm."
   ]
  },
  {
   "cell_type": "markdown",
   "metadata": {},
   "source": [
    "<a name=\"ex01\"></a>\n",
    "### Exercise 1\n",
    "\n",
    "In this exercise you will create the $Q$ and target $\\hat Q$ networks and set the optimizer. Remember that the Deep $Q$-Network (DQN) is a neural network that approximates the action-value function $Q(s,a)\\approx Q^*(s,a)$. It does this by learning how to map states to $Q$ values.\n",
    "\n",
    "To solve the Lunar Lander environment, we are going to employ a DQN with the following architecture:\n",
    "\n",
    "* An `Input` layer that takes `state_size` as input.\n",
    "\n",
    "* A `Dense` layer with `64` units and a `relu` activation function.\n",
    "\n",
    "* A `Dense` layer with `64` units and a `relu` activation function.\n",
    "\n",
    "* A `Dense` layer with `num_actions` units and a `linear` activation function. This will be the output layer of our network.\n",
    "\n",
    "\n",
    "In the cell below you should create the $Q$-Network and the target $\\hat Q$-Network using the model architecture described above. Remember that both the $Q$-Network and the target $\\hat Q$-Network have the same architecture.\n",
    "\n",
    "Lastly, you should set `Adam` as the optimizer with a learning rate equal to `ALPHA`. Recall that `ALPHA` was defined in the [Hyperparameters](#2) section. We should note that for this exercise you should use the already imported packages:\n",
    "```python\n",
    "from tensorflow.keras.layers import Dense, Input\n",
    "from tensorflow.keras.optimizers import Adam\n",
    "```"
   ]
  },
  {
   "cell_type": "code",
   "execution_count": 9,
   "metadata": {
    "deletable": false
   },
   "outputs": [],
   "source": [
    "# UNQ_C1\n",
    "# GRADED CELL\n",
    "\n",
    "# Create the Q-Network\n",
    "q_network = Sequential([\n",
    "    ### START CODE HERE ### \n",
    "    Input(shape=state_size),                      \n",
    "    Dense(units=64, activation='relu'),            \n",
    "    Dense(units=64, activation='relu'),            \n",
    "    Dense(units=num_actions, activation='linear'),\n",
    "    ### END CODE HERE ### \n",
    "    ])\n",
    "\n",
    "# Create the target Q^-Network\n",
    "target_q_network = Sequential([\n",
    "    ### START CODE HERE ### \n",
    "    Input(shape=state_size),                      \n",
    "    Dense(units=64, activation='relu'),            \n",
    "    Dense(units=64, activation='relu'),            \n",
    "    Dense(units=num_actions, activation='linear'),\n",
    "    ### END CODE HERE ###\n",
    "    ])\n",
    "\n",
    "### START CODE HERE ### \n",
    "optimizer = Adam(learning_rate=ALPHA)\n",
    "### END CODE HERE ###"
   ]
  },
  {
   "cell_type": "code",
   "execution_count": 10,
   "metadata": {
    "deletable": false,
    "editable": false
   },
   "outputs": [
    {
     "name": "stdout",
     "output_type": "stream",
     "text": [
      "\u001b[92mAll tests passed!\n",
      "\u001b[92mAll tests passed!\n",
      "\u001b[92mAll tests passed!\n"
     ]
    }
   ],
   "source": [
    "# UNIT TEST\n",
    "from public_tests import *\n",
    "\n",
    "test_network(q_network)\n",
    "test_network(target_q_network)\n",
    "test_optimizer(optimizer, ALPHA) "
   ]
  },
  {
   "cell_type": "markdown",
   "metadata": {},
   "source": [
    "<details>\n",
    "  <summary><font size=\"3\" color=\"darkgreen\"><b>Click for hints</b></font></summary>\n",
    "    \n",
    "```python\n",
    "# Create the Q-Network\n",
    "q_network = Sequential([\n",
    "    Input(shape=state_size),                      \n",
    "    Dense(units=64, activation='relu'),            \n",
    "    Dense(units=64, activation='relu'),            \n",
    "    Dense(units=num_actions, activation='linear'),\n",
    "    ])\n",
    "\n",
    "# Create the target Q^-Network\n",
    "target_q_network = Sequential([\n",
    "    Input(shape=state_size),                       \n",
    "    Dense(units=64, activation='relu'),            \n",
    "    Dense(units=64, activation='relu'),            \n",
    "    Dense(units=num_actions, activation='linear'), \n",
    "    ])\n",
    "\n",
    "optimizer = Adam(learning_rate=ALPHA)                                  \n",
    "``` "
   ]
  },
  {
   "cell_type": "markdown",
   "metadata": {},
   "source": [
    "<a name=\"6.2\"></a>\n",
    "### 6.2 Experience Replay\n",
    "\n",
    "When an agent interacts with the environment, the states, actions, and rewards the agent experiences are sequential by nature. If the agent tries to learn from these consecutive experiences it can run into problems due to the strong correlations between them. To avoid this, we employ a technique known as **Experience Replay** to generate uncorrelated experiences for training our agent. Experience replay consists of storing the agent's experiences (i.e the states, actions, and rewards the agent receives) in a memory buffer and then sampling a random mini-batch of experiences from the buffer to do the learning. The experience tuples $(S_t, A_t, R_t, S_{t+1})$ will be added to the memory buffer at each time step as the agent interacts with the environment.\n",
    "\n",
    "For convenience, we will store the experiences as named tuples."
   ]
  },
  {
   "cell_type": "code",
   "execution_count": 15,
   "metadata": {
    "deletable": false,
    "editable": false
   },
   "outputs": [],
   "source": [
    "# Store experiences as named tuples\n",
    "experience = namedtuple(\"Experience\", field_names=[\"state\", \"action\", \"reward\", \"next_state\", \"done\"])"
   ]
  },
  {
   "cell_type": "markdown",
   "metadata": {},
   "source": [
    "By using experience replay we avoid problematic correlations, oscillations and instabilities. In addition, experience replay also allows the agent to potentially use the same experience in multiple weight updates, which increases data efficiency."
   ]
  },
  {
   "cell_type": "markdown",
   "metadata": {},
   "source": [
    "<a name=\"7\"></a>\n",
    "## 7 - Deep Q-Learning Algorithm with Experience Replay\n",
    "\n",
    "Now that we know all the techniques that we are going to use, we can put them together to arrive at the Deep Q-Learning Algorithm With Experience Replay.\n",
    "<br>\n",
    "<br>\n",
    "<figure>\n",
    "  <img src = \"images/deep_q_algorithm.png\" width = 90% style = \"border: thin silver solid; padding: 0px\">\n",
    "      <figcaption style = \"text-align: center; font-style: italic\">Fig 3. Deep Q-Learning with Experience Replay.</figcaption>\n",
    "</figure>"
   ]
  },
  {
   "cell_type": "markdown",
   "metadata": {},
   "source": [
    "<a name=\"ex02\"></a>\n",
    "### Exercise 2\n",
    "\n",
    "In this exercise you will implement line ***12*** of the algorithm outlined in *Fig 3* above and you will also compute the loss between the $y$ targets and the $Q(s,a)$ values. In the cell below, complete the `compute_loss` function by setting the $y$ targets equal to:\n",
    "\n",
    "$$\n",
    "\\begin{equation}\n",
    "    y_j =\n",
    "    \\begin{cases}\n",
    "      R_j & \\text{if episode terminates at step  } j+1\\\\\n",
    "      R_j + \\gamma \\max_{a'}\\hat{Q}(s_{j+1},a') & \\text{otherwise}\\\\\n",
    "    \\end{cases}       \n",
    "\\end{equation}\n",
    "$$\n",
    "\n",
    "Here are a couple of things to note:\n",
    "\n",
    "* The `compute_loss` function takes in a mini-batch of experience tuples. This mini-batch of experience tuples is unpacked to extract the `states`, `actions`, `rewards`, `next_states`, and `done_vals`. You should keep in mind that these variables are *TensorFlow Tensors* whose size will depend on the mini-batch size. For example, if the mini-batch size is `64` then both `rewards` and `done_vals` will be TensorFlow Tensors with `64` elements.\n",
    "\n",
    "\n",
    "* Using `if/else` statements to set the $y$ targets will not work when the variables are tensors with many elements. However, notice that you can use the `done_vals` to implement the above in a single line of code. To do this, recall that the `done` variable is a Boolean variable that takes the value `True` when an episode terminates at step $j+1$ and it is `False` otherwise. Taking into account that a Boolean value of `True` has the numerical value of `1` and a Boolean value of `False` has the numerical value of `0`, you can use the factor `(1 - done_vals)` to implement the above in a single line of code. Here's a hint: notice that `(1 - done_vals)` has a value of `0` when `done_vals` is `True` and a value of `1` when `done_vals` is `False`. \n",
    "\n",
    "Lastly, compute the loss by calculating the Mean-Squared Error (`MSE`) between the `y_targets` and the `q_values`. To calculate the mean-squared error you should use the already imported package `MSE`:\n",
    "```python\n",
    "from tensorflow.keras.losses import MSE\n",
    "```"
   ]
  },
  {
   "cell_type": "code",
   "execution_count": 16,
   "metadata": {
    "deletable": false
   },
   "outputs": [],
   "source": [
    "# UNQ_C2\n",
    "# GRADED FUNCTION: calculate_loss\n",
    "\n",
    "def compute_loss(experiences, gamma, q_network, target_q_network):\n",
    "    \"\"\" \n",
    "    Calculates the loss.\n",
    "    \n",
    "    Args:\n",
    "      experiences: (tuple) tuple of [\"state\", \"action\", \"reward\", \"next_state\", \"done\"] namedtuples\n",
    "      gamma: (float) The discount factor.\n",
    "      q_network: (tf.keras.Sequential) Keras model for predicting the q_values\n",
    "      target_q_network: (tf.keras.Sequential) Keras model for predicting the targets\n",
    "          \n",
    "    Returns:\n",
    "      loss: (TensorFlow Tensor(shape=(0,), dtype=int32)) the Mean-Squared Error between\n",
    "            the y targets and the Q(s,a) values.\n",
    "    \"\"\"\n",
    "\n",
    "    # Unpack the mini-batch of experience tuples\n",
    "    states, actions, rewards, next_states, done_vals = experiences\n",
    "    \n",
    "    # Compute max Q^(s,a)\n",
    "    max_qsa = tf.reduce_max(target_q_network(next_states), axis=-1)\n",
    "    \n",
    "    # Set y = R if episode terminates, otherwise set y = R + γ max Q^(s,a).\n",
    "    ### START CODE HERE ### \n",
    "    y_targets = rewards + (gamma * max_qsa * (1 - done_vals))\n",
    "    ### END CODE HERE ###\n",
    "    \n",
    "    # Get the q_values\n",
    "    q_values = q_network(states)\n",
    "    q_values = tf.gather_nd(q_values, tf.stack([tf.range(q_values.shape[0]),\n",
    "                                                tf.cast(actions, tf.int32)], axis=1))\n",
    "        \n",
    "    # Compute the loss\n",
    "    ### START CODE HERE ### \n",
    "    loss = MSE(y_targets, q_values)\n",
    "    ### END CODE HERE ### \n",
    "    \n",
    "    return loss"
   ]
  },
  {
   "cell_type": "code",
   "execution_count": 17,
   "metadata": {
    "deletable": false,
    "editable": false
   },
   "outputs": [
    {
     "name": "stdout",
     "output_type": "stream",
     "text": [
      "\u001b[92mAll tests passed!\n"
     ]
    }
   ],
   "source": [
    "# UNIT TEST    \n",
    "test_compute_loss(compute_loss)"
   ]
  },
  {
   "cell_type": "markdown",
   "metadata": {},
   "source": [
    "<details>\n",
    "  <summary><font size=\"3\" color=\"darkgreen\"><b>Click for hints</b></font></summary>\n",
    "    \n",
    "```python\n",
    "def compute_loss(experiences, gamma, q_network, target_q_network):\n",
    "    \"\"\" \n",
    "    Calculates the loss.\n",
    "    \n",
    "    Args:\n",
    "      experiences: (tuple) tuple of [\"state\", \"action\", \"reward\", \"next_state\", \"done\"] namedtuples\n",
    "      gamma: (float) The discount factor.\n",
    "      q_network: (tf.keras.Sequential) Keras model for predicting the q_values\n",
    "      target_q_network: (tf.keras.Sequential) Keras model for predicting the targets\n",
    "          \n",
    "    Returns:\n",
    "      loss: (TensorFlow Tensor(shape=(0,), dtype=int32)) the Mean-Squared Error between\n",
    "            the y targets and the Q(s,a) values.\n",
    "    \"\"\"\n",
    "\n",
    "    \n",
    "    # Unpack the mini-batch of experience tuples\n",
    "    states, actions, rewards, next_states, done_vals = experiences\n",
    "    \n",
    "    # Compute max Q^(s,a)\n",
    "    max_qsa = tf.reduce_max(target_q_network(next_states), axis=-1)\n",
    "    \n",
    "    # Set y = R if episode terminates, otherwise set y = R + γ max Q^(s,a).\n",
    "    y_targets = rewards + (gamma * max_qsa * (1 - done_vals))\n",
    "    \n",
    "    # Get the q_values\n",
    "    q_values = q_network(states)\n",
    "    q_values = tf.gather_nd(q_values, tf.stack([tf.range(q_values.shape[0]),\n",
    "                                                tf.cast(actions, tf.int32)], axis=1))\n",
    "    \n",
    "    # Calculate the loss\n",
    "    loss = MSE(y_targets, q_values)\n",
    "    \n",
    "    return loss\n",
    "\n",
    "``` \n",
    "    "
   ]
  },
  {
   "cell_type": "markdown",
   "metadata": {},
   "source": [
    "<a name=\"8\"></a>\n",
    "## 8 - Update the Network Weights\n",
    "\n",
    "We will use the `agent_learn` function below to implement lines ***12 -14*** of the algorithm outlined in [Fig 3](#7). The `agent_learn` function will update the weights of the $Q$ and target $\\hat Q$ networks using a custom training loop. Because we are using a custom training loop we need to retrieve the gradients via a `tf.GradientTape` instance, and then call `optimizer.apply_gradients()` to update the weights of our $Q$-Network. Note that we are also using the `@tf.function` decorator to increase performance. Without this decorator our training will take twice as long. If you would like to know more about how to increase performance with `@tf.function` take a look at the [TensorFlow documentation](https://www.tensorflow.org/guide/function).\n",
    "\n",
    "The last line of this function updates the weights of the target $\\hat Q$-Network using a [soft update](#6.1). If you want to know how this is implemented in code we encourage you to take a look at the `utils.update_target_network` function in the `utils` module."
   ]
  },
  {
   "cell_type": "code",
   "execution_count": 18,
   "metadata": {
    "deletable": false,
    "editable": false
   },
   "outputs": [],
   "source": [
    "@tf.function\n",
    "def agent_learn(experiences, gamma):\n",
    "    \"\"\"\n",
    "    Updates the weights of the Q networks.\n",
    "    \n",
    "    Args:\n",
    "      experiences: (tuple) tuple of [\"state\", \"action\", \"reward\", \"next_state\", \"done\"] namedtuples\n",
    "      gamma: (float) The discount factor.\n",
    "    \n",
    "    \"\"\"\n",
    "    \n",
    "    # Calculate the loss\n",
    "    with tf.GradientTape() as tape:\n",
    "        loss = compute_loss(experiences, gamma, q_network, target_q_network)\n",
    "\n",
    "    # Get the gradients of the loss with respect to the weights.\n",
    "    gradients = tape.gradient(loss, q_network.trainable_variables)\n",
    "    \n",
    "    # Update the weights of the q_network.\n",
    "    optimizer.apply_gradients(zip(gradients, q_network.trainable_variables))\n",
    "\n",
    "    # update the weights of target q_network\n",
    "    utils.update_target_network(q_network, target_q_network)"
   ]
  },
  {
   "cell_type": "markdown",
   "metadata": {},
   "source": [
    "<a name=\"9\"></a>\n",
    "## 9 - Train the Agent\n",
    "\n",
    "We are now ready to train our agent to solve the Lunar Lander environment. In the cell below we will implement the algorithm in [Fig 3](#7) line by line (please note that we have included the same algorithm below for easy reference. This will prevent you from scrolling up and down the notebook):\n",
    "\n",
    "* **Line 1**: We initialize the `memory_buffer` with a capacity of $N =$ `MEMORY_SIZE`. Notice that we are using a `deque` as the data structure for our `memory_buffer`.\n",
    "\n",
    "\n",
    "* **Line 2**: We skip this line since we already initialized the `q_network` in [Exercise 1](#ex01).\n",
    "\n",
    "\n",
    "* **Line 3**: We initialize the `target_q_network` by setting its weights to be equal to those of the `q_network`.\n",
    "\n",
    "\n",
    "* **Line 4**: We start the outer loop. Notice that we have set $M =$ `num_episodes = 2000`. This number is reasonable because the agent should be able to solve the Lunar Lander environment in less than `2000` episodes using this notebook's default parameters.\n",
    "\n",
    "\n",
    "* **Line 5**: We use the `.reset()` method to reset the environment to the initial state and get the initial state.\n",
    "\n",
    "\n",
    "* **Line 6**: We start the inner loop. Notice that we have set $T =$ `max_num_timesteps = 1000`. This means that the episode will automatically terminate if the episode hasn't terminated after `1000` time steps.\n",
    "\n",
    "\n",
    "* **Line 7**: The agent observes the current `state` and chooses an `action` using an $\\epsilon$-greedy policy. Our agent starts out using a value of $\\epsilon =$ `epsilon = 1` which yields an $\\epsilon$-greedy policy that is equivalent to the equiprobable random policy. This means that at the beginning of our training, the agent is just going to take random actions regardless of the observed `state`. As training progresses we will decrease the value of $\\epsilon$ slowly towards a minimum value using a given $\\epsilon$-decay rate. We want this minimum value to be close to zero because a value of $\\epsilon = 0$ will yield an $\\epsilon$-greedy policy that is equivalent to the greedy policy. This means that towards the end of training, the agent will lean towards selecting the `action` that it believes (based on its past experiences) will maximize $Q(s,a)$. We will set the minimum $\\epsilon$ value to be `0.01` and not exactly 0 because we always want to keep a little bit of exploration during training. If you want to know how this is implemented in code we encourage you to take a look at the `utils.get_action` function in the `utils` module.\n",
    "\n",
    "\n",
    "* **Line 8**: We use the `.step()` method to take the given `action` in the environment and get the `reward` and the `next_state`. \n",
    "\n",
    "\n",
    "* **Line 9**: We store the `experience(state, action, reward, next_state, done)` tuple in our `memory_buffer`. Notice that we also store the `done` variable so that we can keep track of when an episode terminates. This allowed us to set the $y$ targets in [Exercise 2](#ex02).\n",
    "\n",
    "\n",
    "* **Line 10**: We check if the conditions are met to perform a learning update. We do this by using our custom `utils.check_update_conditions` function. This function checks if $C =$ `NUM_STEPS_FOR_UPDATE = 4` time steps have occured and if our `memory_buffer` has enough experience tuples to fill a mini-batch. For example, if the mini-batch size is `64`, then our `memory_buffer` should have more than `64` experience tuples in order to pass the latter condition. If the conditions are met, then the `utils.check_update_conditions` function will return a value of `True`, otherwise it will return a value of `False`.\n",
    "\n",
    "\n",
    "* **Lines 11 - 14**: If the `update` variable is `True` then we perform a learning update. The learning update consists of sampling a random mini-batch of experience tuples from our `memory_buffer`, setting the $y$ targets, performing gradient descent, and updating the weights of the networks. We will use the `agent_learn` function we defined in [Section 8](#8) to perform the latter 3.\n",
    "\n",
    "\n",
    "* **Line 15**: At the end of each iteration of the inner loop we set `next_state` as our new `state` so that the loop can start again from this new state. In addition, we check if the episode has reached a terminal state (i.e we check if `done = True`). If a terminal state has been reached, then we break out of the inner loop.\n",
    "\n",
    "\n",
    "* **Line 16**: At the end of each iteration of the outer loop we update the value of $\\epsilon$, and check if the environment has been solved. We consider that the environment has been solved if the agent receives an average of `200` points in the last `100` episodes. If the environment has not been solved we continue the outer loop and start a new episode.\n",
    "\n",
    "Finally, we wanted to note that we have included some extra variables to keep track of the total number of points the agent received in each episode. This will help us determine if the agent has solved the environment and it will also allow us to see how our agent performed during training. We also use the `time` module to measure how long the training takes. \n",
    "\n",
    "<br>\n",
    "<br>\n",
    "<figure>\n",
    "  <img src = \"images/deep_q_algorithm.png\" width = 90% style = \"border: thin silver solid; padding: 0px\">\n",
    "      <figcaption style = \"text-align: center; font-style: italic\">Fig 4. Deep Q-Learning with Experience Replay.</figcaption>\n",
    "</figure>\n",
    "<br>\n",
    "\n",
    "**Note:** With this notebook's default parameters, the following cell takes between 10 to 15 minutes to run. "
   ]
  },
  {
   "cell_type": "code",
   "execution_count": 19,
   "metadata": {
    "deletable": false,
    "editable": false
   },
   "outputs": [
    {
     "name": "stdout",
     "output_type": "stream",
     "text": [
      "Episode 100 | Total point average of the last 100 episodes: -154.49\n",
      "Episode 200 | Total point average of the last 100 episodes: -93.719\n",
      "Episode 300 | Total point average of the last 100 episodes: -51.19\n",
      "Episode 400 | Total point average of the last 100 episodes: -6.411\n",
      "Episode 500 | Total point average of the last 100 episodes: 98.32\n",
      "Episode 600 | Total point average of the last 100 episodes: 176.23\n",
      "Episode 624 | Total point average of the last 100 episodes: 200.45\n",
      "\n",
      "Environment solved in 624 episodes!\n",
      "\n",
      "Total Runtime: 844.70 s (14.08 min)\n"
     ]
    }
   ],
   "source": [
    "start = time.time()\n",
    "\n",
    "num_episodes = 2000\n",
    "max_num_timesteps = 1000\n",
    "\n",
    "total_point_history = []\n",
    "\n",
    "num_p_av = 100    # number of total points to use for averaging\n",
    "epsilon = 1.0     # initial ε value for ε-greedy policy\n",
    "\n",
    "# Create a memory buffer D with capacity N\n",
    "memory_buffer = deque(maxlen=MEMORY_SIZE)\n",
    "\n",
    "# Set the target network weights equal to the Q-Network weights\n",
    "target_q_network.set_weights(q_network.get_weights())\n",
    "\n",
    "for i in range(num_episodes):\n",
    "    \n",
    "    # Reset the environment to the initial state and get the initial state\n",
    "    state = env.reset()\n",
    "    total_points = 0\n",
    "    \n",
    "    for t in range(max_num_timesteps):\n",
    "        \n",
    "        # From the current state S choose an action A using an ε-greedy policy\n",
    "        state_qn = np.expand_dims(state, axis=0)  # state needs to be the right shape for the q_network\n",
    "        q_values = q_network(state_qn)\n",
    "        action = utils.get_action(q_values, epsilon)\n",
    "        \n",
    "        # Take action A and receive reward R and the next state S'\n",
    "        next_state, reward, done, _ = env.step(action)\n",
    "        \n",
    "        # Store experience tuple (S,A,R,S') in the memory buffer.\n",
    "        # We store the done variable as well for convenience.\n",
    "        memory_buffer.append(experience(state, action, reward, next_state, done))\n",
    "        \n",
    "        # Only update the network every NUM_STEPS_FOR_UPDATE time steps.\n",
    "        update = utils.check_update_conditions(t, NUM_STEPS_FOR_UPDATE, memory_buffer)\n",
    "        \n",
    "        if update:\n",
    "            # Sample random mini-batch of experience tuples (S,A,R,S') from D\n",
    "            experiences = utils.get_experiences(memory_buffer)\n",
    "            \n",
    "            # Set the y targets, perform a gradient descent step,\n",
    "            # and update the network weights.\n",
    "            agent_learn(experiences, GAMMA)\n",
    "        \n",
    "        state = next_state.copy()\n",
    "        total_points += reward\n",
    "        \n",
    "        if done:\n",
    "            break\n",
    "            \n",
    "    total_point_history.append(total_points)\n",
    "    av_latest_points = np.mean(total_point_history[-num_p_av:])\n",
    "    \n",
    "    # Update the ε value\n",
    "    epsilon = utils.get_new_eps(epsilon)\n",
    "\n",
    "    print(f\"\\rEpisode {i+1} | Total point average of the last {num_p_av} episodes: {av_latest_points:.2f}\", end=\"\")\n",
    "\n",
    "    if (i+1) % num_p_av == 0:\n",
    "        print(f\"\\rEpisode {i+1} | Total point average of the last {num_p_av} episodes: {av_latest_points:.2f}\")\n",
    "\n",
    "    # We will consider that the environment is solved if we get an\n",
    "    # average of 200 points in the last 100 episodes.\n",
    "    if av_latest_points >= 200.0:\n",
    "        print(f\"\\n\\nEnvironment solved in {i+1} episodes!\")\n",
    "        q_network.save('lunar_lander_model.h5')\n",
    "        break\n",
    "        \n",
    "tot_time = time.time() - start\n",
    "\n",
    "print(f\"\\nTotal Runtime: {tot_time:.2f} s ({(tot_time/60):.2f} min)\")"
   ]
  },
  {
   "cell_type": "markdown",
   "metadata": {},
   "source": [
    "We can plot the total point history along with the moving average to see how our agent improved during training. If you want to know about the different plotting options available in the `utils.plot_history` function we encourage you to take a look at the `utils` module."
   ]
  },
  {
   "cell_type": "code",
   "execution_count": 20,
   "metadata": {
    "deletable": false,
    "editable": false,
    "id": "E_EUXxurfe8m",
    "scrolled": false
   },
   "outputs": [
    {
     "data": {
      "image/png": "[encoded data removed]",
      "text/plain": [
       "<Figure size 720x504 with 1 Axes>"
      ]
     },
     "metadata": {},
     "output_type": "display_data"
    }
   ],
   "source": [
    "# Plot the total point history along with the moving average\n",
    "utils.plot_history(total_point_history)"
   ]
  },
  {
   "cell_type": "markdown",
   "metadata": {
    "id": "c_xwgaX5MnYt"
   },
   "source": [
    "<a name=\"10\"></a>\n",
    "## 10 - See the Trained Agent In Action\n",
    "\n",
    "Now that we have trained our agent, we can see it in action. We will use the `utils.create_video` function to create a video of our agent interacting with the environment using the trained $Q$-Network. The `utils.create_video` function uses the `imageio` library to create the video. This library produces some warnings that can be distracting, so, to suppress these warnings we run the code below."
   ]
  },
  {
   "cell_type": "code",
   "execution_count": 21,
   "metadata": {
    "deletable": false,
    "editable": false
   },
   "outputs": [],
   "source": [
    "# Suppress warnings from imageio\n",
    "import logging\n",
    "logging.getLogger().setLevel(logging.ERROR)"
   ]
  },
  {
   "cell_type": "markdown",
   "metadata": {},
   "source": [
    "In the cell below we create a video of our agent interacting with the Lunar Lander environment using the trained `q_network`. The video is saved to the `videos` folder with the given `filename`. We use the `utils.embed_mp4` function to embed the video in the Jupyter Notebook so that we can see it here directly without having to download it.\n",
    "\n",
    "We should note that since the lunar lander starts with a random initial force applied to its center of mass, every time you run the cell below you will see a different video. If the agent was trained properly, it should be able to land the lunar lander in the landing pad every time, regardless of the initial force applied to its center of mass."
   ]
  },
  {
   "cell_type": "code",
   "execution_count": 22,
   "metadata": {
    "deletable": false,
    "editable": false,
    "id": "3Ttb_zLeJKiG"
   },
   "outputs": [
    {
     "data": {
      "text/html": [
       "\n",
       "    <video width=\"840\" height=\"480\" controls>\n",
       "    <source src=\"data:video/mp4;base64,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\" type=\"video/mp4\">\n",
       "    Your browser does not support the video tag.\n",
       "    </video>"
      ],
      "text/plain": [
       "<IPython.core.display.HTML object>"
      ]
     },
     "execution_count": 22,
     "metadata": {},
     "output_type": "execute_result"
    }
   ],
   "source": [
    "filename = \"./videos/lunar_lander.mp4\"\n",
    "\n",
    "utils.create_video(filename, env, q_network)\n",
    "utils.embed_mp4(filename)"
   ]
  },
  {
   "cell_type": "markdown",
   "metadata": {},
   "source": [
    "<a name=\"11\"></a>\n",
    "## 11 - Congratulations!\n",
    "\n",
    "You have successfully used Deep Q-Learning with Experience Replay to train an agent to land a lunar lander safely on a landing pad on the surface of the moon. Congratulations!"
   ]
  },
  {
   "cell_type": "markdown",
   "metadata": {},
   "source": [
    "<a name=\"12\"></a>\n",
    "## 12 - References\n",
    "\n",
    "If you would like to learn more about Deep Q-Learning, we recommend you check out the following papers.\n",
    "\n",
    "\n",
    "* Mnih, V., Kavukcuoglu, K., Silver, D. et al. Human-level control through deep reinforcement learning. Nature 518, 529–533 (2015).\n",
    "\n",
    "\n",
    "* Lillicrap, T. P., Hunt, J. J., Pritzel, A., et al. Continuous Control with Deep Reinforcement Learning. ICLR (2016).\n",
    "\n",
    "\n",
    "* Mnih, V., Kavukcuoglu, K., Silver, D. et al. Playing Atari with Deep Reinforcement Learning. arXiv e-prints.  arXiv:1312.5602 (2013)."
   ]
  },
  {
   "cell_type": "markdown",
   "metadata": {},
   "source": [
    "<details>\n",
    "  <summary><font size=\"2\" color=\"darkgreen\"><b>Please click here if you want to experiment with any of the non-graded code.</b></font></summary>\n",
    "    <p><i><b>Important Note: Please only do this when you've already passed the assignment to avoid problems with the autograder.</b></i>\n",
    "    <ol>\n",
    "        <li> On the notebook’s menu, click “View” > “Cell Toolbar” > “Edit Metadata”</li>\n",
    "        <li> Hit the “Edit Metadata” button next to the code cell which you want to lock/unlock</li>\n",
    "        <li> Set the attribute value for “editable” to:\n",
    "            <ul>\n",
    "                <li> “true” if you want to unlock it </li>\n",
    "                <li> “false” if you want to lock it </li>\n",
    "            </ul>\n",
    "        </li>\n",
    "        <li> On the notebook’s menu, click “View” > “Cell Toolbar” > “None” </li>\n",
    "    </ol>\n",
    "    <p> Here's a short demo of how to do the steps above: \n",
    "        <br>\n",
    "        <img src=\"https://lh3.google.com/u/0/d/14Xy_Mb17CZVgzVAgq7NCjMVBvSae3xO1\" align=\"center\" alt=\"unlock_cells.gif\">\n",
    "</details>"
   ]
  }
 ],
 "metadata": {
  "accelerator": "GPU",
  "colab": {
   "collapsed_sections": [],
   "name": "TensorFlow - Lunar Lander.ipynb",
   "provenance": []
  },
  "kernelspec": {
   "display_name": "Python 3",
   "language": "python",
   "name": "python3"
  },
  "language_info": {
   "codemirror_mode": {
    "name": "ipython",
    "version": 3
   },
   "file_extension": ".py",
   "mimetype": "text/x-python",
   "name": "python",
   "nbconvert_exporter": "python",
   "pygments_lexer": "ipython3",
   "version": "3.7.6"
  }
 },
 "nbformat": 4,
 "nbformat_minor": 1
}
